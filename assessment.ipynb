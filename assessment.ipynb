{
  "nbformat": 4,
  "nbformat_minor": 0,
  "metadata": {
    "colab": {
      "provenance": [],
      "authorship_tag": "ABX9TyOngJx9aHWwSJYuHZ8uO8Hp",
      "include_colab_link": true
    },
    "kernelspec": {
      "name": "python3",
      "display_name": "Python 3"
    },
    "language_info": {
      "name": "python"
    }
  },
  "cells": [
    {
      "cell_type": "markdown",
      "metadata": {
        "id": "view-in-github",
        "colab_type": "text"
      },
      "source": [
        "<a href=\"https://colab.research.google.com/github/giovanni-lucarelli/basket/blob/main/assessment.ipynb\" target=\"_parent\"><img src=\"https://colab.research.google.com/assets/colab-badge.svg\" alt=\"Open In Colab\"/></a>"
      ]
    },
    {
      "cell_type": "markdown",
      "source": [
        "## Import"
      ],
      "metadata": {
        "id": "gdVf33XeHP6z"
      }
    },
    {
      "cell_type": "code",
      "execution_count": 10,
      "metadata": {
        "id": "VloLTZd05g8w"
      },
      "outputs": [],
      "source": [
        "import io\n",
        "import matplotlib.pyplot as plt\n",
        "import seaborn as sns\n",
        "import numpy as np\n",
        "import pandas as pd\n",
        "from sklearn.ensemble import RandomForestClassifier\n",
        "import itertools\n",
        "\n",
        "# Import classification algorithms\n",
        "from sklearn.dummy import DummyClassifier\n",
        "from sklearn.svm import SVC\n",
        "from sklearn.naive_bayes import BernoulliNB\n",
        "from sklearn.neighbors import KNeighborsClassifier\n",
        "\n",
        "# Import evaluation algorithms\n",
        "from sklearn.metrics import accuracy_score, recall_score, confusion_matrix, f1_score, precision_recall_curve, roc_curve, auc\n"
      ]
    },
    {
      "cell_type": "code",
      "source": [
        "url = \"https://raw.githubusercontent.com/giovanni-lucarelli/basket/main/basket_processed.csv\"\n",
        "df = pd.read_csv(url)"
      ],
      "metadata": {
        "id": "vZ_zGHE15mzl"
      },
      "execution_count": 9,
      "outputs": []
    },
    {
      "cell_type": "markdown",
      "source": [
        "## Assessment\n",
        "The assessment is made with the default models, without fine-tuning.\n",
        "Fine-tuning all the possible parameters would take a looooong time."
      ],
      "metadata": {
        "id": "t7Y4G7NJKBCZ"
      }
    },
    {
      "cell_type": "code",
      "source": [
        "# List of models\n",
        "models = [\n",
        "    RandomForestClassifier(random_state=42, n_estimators=200, max_depth=20),\n",
        "    BernoulliNB(),\n",
        "    DummyClassifier(),\n",
        "    KNeighborsClassifier(n_neighbors=60, weights='distance'),\n",
        "    SVC(probability=True)\n",
        "]\n",
        "\n",
        "# Dictionary to store accuracies for each model\n",
        "model_accuracies = {}\n",
        "\n",
        "# Loop through models\n",
        "for model in models:\n",
        "    model_name = type(model).__name__  # Get the model's name\n",
        "    model_accuracies[model_name] = []  # Initialize an empty list for accuracies\n",
        "\n",
        "    target_years = df['GAME_DATE_EST'].str.split('-').str[0].astype(int)\n",
        "\n",
        "    for year in range(min(target_years) + 1, max(target_years) + 1):\n",
        "\n",
        "        # Rolling origin forecasting (for validation)\n",
        "        X_train = df[target_years < year]\n",
        "        y_train = X_train['HOME_WINS']\n",
        "        X_train = X_train.drop(columns=['HOME_WINS', 'GAME_DATE_EST'])\n",
        "\n",
        "        # Only test on `year`\n",
        "        X_test = df[target_years == year]\n",
        "        y_test = X_test['HOME_WINS']\n",
        "        X_test = X_test.drop(columns=['HOME_WINS', 'GAME_DATE_EST'])\n",
        "\n",
        "        # Train the model\n",
        "        model.fit(X_train, y_train)\n",
        "\n",
        "        # Test the model\n",
        "        y_pred = model.predict(X_test)\n",
        "\n",
        "        # Calculate accuracy\n",
        "        acc = accuracy_score(y_test, y_pred)\n",
        "        model_accuracies[model_name].append(acc)\n",
        "\n",
        "        print(f\"{model_name} - Accuracy for year {year}: {acc}\")\n",
        "\n",
        "# Print overall results\n",
        "for model_name, accuracies in model_accuracies.items():\n",
        "    print(f\"\\n{model_name} - Average Accuracy: {sum(accuracies) / len(accuracies):.4f}\")\n"
      ],
      "metadata": {
        "colab": {
          "base_uri": "https://localhost:8080/"
        },
        "id": "NVp0vvQJT1QB",
        "outputId": "570f238f-033b-49bd-eb2f-9b9decf2d749"
      },
      "execution_count": 41,
      "outputs": [
        {
          "output_type": "stream",
          "name": "stdout",
          "text": [
            "RandomForestClassifier - Accuracy for year 2004: 0.6031007751937985\n",
            "RandomForestClassifier - Accuracy for year 2005: 0.5853658536585366\n",
            "RandomForestClassifier - Accuracy for year 2006: 0.6237077877325982\n",
            "RandomForestClassifier - Accuracy for year 2007: 0.5982905982905983\n",
            "RandomForestClassifier - Accuracy for year 2008: 0.6248266296809986\n",
            "RandomForestClassifier - Accuracy for year 2009: 0.6519607843137255\n",
            "RandomForestClassifier - Accuracy for year 2010: 0.6131284916201117\n",
            "RandomForestClassifier - Accuracy for year 2011: 0.6404371584699453\n",
            "RandomForestClassifier - Accuracy for year 2012: 0.6531645569620254\n",
            "RandomForestClassifier - Accuracy for year 2013: 0.63268156424581\n",
            "RandomForestClassifier - Accuracy for year 2014: 0.611380985426787\n",
            "RandomForestClassifier - Accuracy for year 2015: 0.616631430584919\n",
            "RandomForestClassifier - Accuracy for year 2016: 0.6088173547935619\n",
            "RandomForestClassifier - Accuracy for year 2017: 0.6062103034580099\n",
            "RandomForestClassifier - Accuracy for year 2018: 0.6295224312590448\n",
            "RandomForestClassifier - Accuracy for year 2019: 0.6126126126126126\n",
            "RandomForestClassifier - Accuracy for year 2020: 0.5640050697084917\n",
            "RandomForestClassifier - Accuracy for year 2021: 0.5963464938126105\n",
            "RandomForestClassifier - Accuracy for year 2022: 0.5986547085201793\n",
            "BernoulliNB - Accuracy for year 2004: 0.6108527131782946\n",
            "BernoulliNB - Accuracy for year 2005: 0.5993031358885017\n",
            "BernoulliNB - Accuracy for year 2006: 0.6078566505858028\n",
            "BernoulliNB - Accuracy for year 2007: 0.6146723646723646\n",
            "BernoulliNB - Accuracy for year 2008: 0.628987517337032\n",
            "BernoulliNB - Accuracy for year 2009: 0.6253501400560224\n",
            "BernoulliNB - Accuracy for year 2010: 0.6256983240223464\n",
            "BernoulliNB - Accuracy for year 2011: 0.6196721311475409\n",
            "BernoulliNB - Accuracy for year 2012: 0.6240506329113924\n",
            "BernoulliNB - Accuracy for year 2013: 0.625\n",
            "BernoulliNB - Accuracy for year 2014: 0.6217904233171409\n",
            "BernoulliNB - Accuracy for year 2015: 0.6243833685694151\n",
            "BernoulliNB - Accuracy for year 2016: 0.6144156752974108\n",
            "BernoulliNB - Accuracy for year 2017: 0.6062103034580099\n",
            "BernoulliNB - Accuracy for year 2018: 0.5984081041968162\n",
            "BernoulliNB - Accuracy for year 2019: 0.6283783783783784\n",
            "BernoulliNB - Accuracy for year 2020: 0.5602027883396705\n",
            "BernoulliNB - Accuracy for year 2021: 0.5945786682380672\n",
            "BernoulliNB - Accuracy for year 2022: 0.5814648729446936\n",
            "DummyClassifier - Accuracy for year 2004: 0.6124031007751938\n",
            "DummyClassifier - Accuracy for year 2005: 0.5902439024390244\n",
            "DummyClassifier - Accuracy for year 2006: 0.6188835286009648\n",
            "DummyClassifier - Accuracy for year 2007: 0.5847578347578347\n",
            "DummyClassifier - Accuracy for year 2008: 0.5998613037447988\n",
            "DummyClassifier - Accuracy for year 2009: 0.6274509803921569\n",
            "DummyClassifier - Accuracy for year 2010: 0.5991620111731844\n",
            "DummyClassifier - Accuracy for year 2011: 0.6109289617486339\n",
            "DummyClassifier - Accuracy for year 2012: 0.6025316455696202\n",
            "DummyClassifier - Accuracy for year 2013: 0.5872905027932961\n",
            "DummyClassifier - Accuracy for year 2014: 0.5690492713393477\n",
            "DummyClassifier - Accuracy for year 2015: 0.5961945031712473\n",
            "DummyClassifier - Accuracy for year 2016: 0.5836249125262422\n",
            "DummyClassifier - Accuracy for year 2017: 0.5815102328863797\n",
            "DummyClassifier - Accuracy for year 2018: 0.5962373371924746\n",
            "DummyClassifier - Accuracy for year 2019: 0.5653153153153153\n",
            "DummyClassifier - Accuracy for year 2020: 0.5196451204055766\n",
            "DummyClassifier - Accuracy for year 2021: 0.5515615792575133\n",
            "DummyClassifier - Accuracy for year 2022: 0.5665171898355755\n",
            "KNeighborsClassifier - Accuracy for year 2004: 0.6139534883720931\n",
            "KNeighborsClassifier - Accuracy for year 2005: 0.5895470383275261\n",
            "KNeighborsClassifier - Accuracy for year 2006: 0.6126809097174363\n",
            "KNeighborsClassifier - Accuracy for year 2007: 0.5911680911680912\n",
            "KNeighborsClassifier - Accuracy for year 2008: 0.6352288488210819\n",
            "KNeighborsClassifier - Accuracy for year 2009: 0.6428571428571429\n",
            "KNeighborsClassifier - Accuracy for year 2010: 0.6312849162011173\n",
            "KNeighborsClassifier - Accuracy for year 2011: 0.6229508196721312\n",
            "KNeighborsClassifier - Accuracy for year 2012: 0.6278481012658228\n",
            "KNeighborsClassifier - Accuracy for year 2013: 0.6243016759776536\n",
            "KNeighborsClassifier - Accuracy for year 2014: 0.6072172102706453\n",
            "KNeighborsClassifier - Accuracy for year 2015: 0.6236786469344608\n",
            "KNeighborsClassifier - Accuracy for year 2016: 0.6298110566829951\n",
            "KNeighborsClassifier - Accuracy for year 2017: 0.6012702893436839\n",
            "KNeighborsClassifier - Accuracy for year 2018: 0.6107091172214182\n",
            "KNeighborsClassifier - Accuracy for year 2019: 0.6246246246246246\n",
            "KNeighborsClassifier - Accuracy for year 2020: 0.5576679340937896\n",
            "KNeighborsClassifier - Accuracy for year 2021: 0.582203889216264\n",
            "KNeighborsClassifier - Accuracy for year 2022: 0.5911808669656203\n",
            "SVC - Accuracy for year 2004: 0.6170542635658914\n",
            "SVC - Accuracy for year 2005: 0.6034843205574912\n",
            "SVC - Accuracy for year 2006: 0.6361130254996554\n",
            "SVC - Accuracy for year 2007: 0.6032763532763533\n",
            "SVC - Accuracy for year 2008: 0.6380027739251041\n",
            "SVC - Accuracy for year 2009: 0.6435574229691877\n",
            "SVC - Accuracy for year 2010: 0.6270949720670391\n",
            "SVC - Accuracy for year 2011: 0.6338797814207651\n",
            "SVC - Accuracy for year 2012: 0.6430379746835443\n",
            "SVC - Accuracy for year 2013: 0.6222067039106145\n",
            "SVC - Accuracy for year 2014: 0.6148507980569049\n",
            "SVC - Accuracy for year 2015: 0.627906976744186\n",
            "SVC - Accuracy for year 2016: 0.616515045486354\n",
            "SVC - Accuracy for year 2017: 0.6062103034580099\n",
            "SVC - Accuracy for year 2018: 0.6237337192474675\n",
            "SVC - Accuracy for year 2019: 0.6193693693693694\n",
            "SVC - Accuracy for year 2020: 0.5449936628643853\n",
            "SVC - Accuracy for year 2021: 0.6022392457277549\n",
            "SVC - Accuracy for year 2022: 0.6031390134529148\n",
            "\n",
            "RandomForestClassifier - Average Accuracy: 0.6143\n",
            "\n",
            "BernoulliNB - Average Accuracy: 0.6111\n",
            "\n",
            "DummyClassifier - Average Accuracy: 0.5875\n",
            "\n",
            "KNeighborsClassifier - Average Accuracy: 0.6116\n",
            "\n",
            "SVC - Average Accuracy: 0.6172\n"
          ]
        }
      ]
    },
    {
      "cell_type": "code",
      "source": [
        "plt.figure(figsize=(12, 8))\n",
        "sns.boxplot(data=pd.DataFrame(model_accuracies))\n",
        "plt.title('Boxplot of Accuracies for Different Models')\n",
        "plt.ylabel('Accuracy')\n",
        "plt.xlabel('Model')\n",
        "plt.show()"
      ],
      "metadata": {
        "colab": {
          "base_uri": "https://localhost:8080/",
          "height": 718
        },
        "id": "OJ2OvB-6Uje8",
        "outputId": "153e6f60-64e2-43f7-9428-8e86ec578f3f"
      },
      "execution_count": 42,
      "outputs": [
        {
          "output_type": "display_data",
          "data": {
            "text/plain": [
              "<Figure size 1200x800 with 1 Axes>"
            ],
            "image/png": "[encoded data removed]"
          },
          "metadata": {}
        }
      ]
    },
    {
      "cell_type": "code",
      "source": [
        "'''\n",
        "TODO:\n",
        "\n",
        "1. Statistical significance testing to see which is the best learning\n",
        "technique. Under normality assumption we can do a t-test for the mean value\n",
        "of the 5 accuracies vectors.\n",
        "\n",
        "2. Use different metric to compare the learning techniques such as roc-auc (?)\n",
        "'''"
      ],
      "metadata": {
        "id": "8xQUvXV6cPQB"
      },
      "execution_count": null,
      "outputs": []
    }
  ]
}